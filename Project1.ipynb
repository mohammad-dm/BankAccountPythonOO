{
 "cells": [
  {
   "cell_type": "markdown",
   "metadata": {},
   "source": [
    "### Project 1"
   ]
  },
  {
   "cell_type": "markdown",
   "metadata": {},
   "source": [
    "We need to design an dimplement a class that will be used to represent bank accounts.\n",
    "\n",
    "We want the following functionality and characteristics:\n",
    "- accounts are uniquely identified by an **account number** (assume it will just be passed in the initializer)\n",
    "- account holders have a **first** and **last** name\n",
    "- accounts have an associated **preferred time zone offset** (e.g. -7 for MST)\n",
    "- **balances** need to be zero or higher, and should not be directly settable.\n",
    "- but, **deposits** and **withdrawals** can be made (given sufficient funds)\n",
    "    - if a withdrawal is attempted that would result in nagative funds, the transaction should be declined.\n",
    "- a **monthly interest rate** exists and is applicable to all accounts **uniformly**. There should be a method that can be called to calculate the interest on the current balance using the current interest rate, and **add it** to the balance.\n",
    "- each deposit and withdrawal must generate a **confirmation number** composed of:\n",
    "    - the transaction type: `D` for deposit, and `W` for withdrawal, `I` for interest deposit, and `X` for declined (in which case the balance remains unaffected)\n",
    "    - the account number\n",
    "    - the time the transaction was made, using UTC\n",
    "    - an incrementing number (that increments across all accounts and transactions)\n",
    "    - for (extreme!) simplicity assume that the transaction id starts at zero (or whatever number you choose) whenever the program starts\n",
    "    - the confirmation number should be returned from any of the transaction methods (deposit, withdraw, etc)\n",
    "- create a **method** that, given a confirmation number, returns:\n",
    "    - the account number, transaction code (D, W, etc), datetime (UTC format), date time (in whatever timezone is specified in te argument, but more human readable), the transaction ID\n",
    "    - make it so it is a nicely structured object (so can use dotted notation to access these three attributes)\n",
    "    - I purposefully made it so the desired timezone is passed as an argument. Can you figure out why? (hint: does this method require any information from any instance?)"
   ]
  },
  {
   "cell_type": "markdown",
   "metadata": {},
   "source": [
    "For example, we may have an account with:\n",
    "- account number `140568` \n",
    "- preferred time zone offset of -7 (MST) \n",
    "- an existing balance of `100.00`\n",
    "\n",
    "Suppose the last transaction ID in the system was `123`, and a deposit is made for `50.00` on `2019-03-15T14:59:00` (UTC) on that account (or `2019-03-15T07:59:00` in account's preferred time zone offset)\n",
    "\n",
    "The new balance should reflect `150.00` and the confirmation number returned should look something like this:\n",
    "\n",
    "```D-140568-20190315145900-124```\n",
    "\n",
    "We also want a method that given the confirmation number returns an object with attributes:\n",
    "- `result.account_number` --> `140568`\n",
    "- `result.transaction_code` --> `D`\n",
    "- `result.transaction_id` --> `124`\n",
    "- `result.time` --> `2019-03-15 07:59:00 (MST)`\n",
    "- `result.time_utc` --> `2019-03-15T14:59:00`"
   ]
  },
  {
   "cell_type": "markdown",
   "metadata": {},
   "source": [
    "Furthermore, if current interest rate is `0.5%`, and the account's balance is `1000.00`, then the result of calling the `deposit_interest` (or whatever name you choose) method, should result in a new transaction and a new balance of `1050.00`. Calling this method should also return a confirmation number.\n",
    "\n",
    "For simplicty, just use floats, but be aware that for these types of situations you'll probably want to use `Decimal` objects instead of floats."
   ]
  },
  {
   "cell_type": "markdown",
   "metadata": {},
   "source": [
    "There are going to be many ways to design something like this, especially since I have not nailed down all the specific requirements, so you'll have to fill the gaps yourself and decide what other things you may want to implement (like is the account number going to be a mutable property, or \"read-only\" and so on).\n",
    "\n",
    "See how many different ideas you can use from what we covered in the last section. "
   ]
  },
  {
   "cell_type": "markdown",
   "metadata": {},
   "source": [
    "My approach will end up creating two classes: a `TimeZone` class used to store the time zone name and offset definition (in hours and minutes), and a main class called `Account` that will have the following \"public\" interface:\n",
    "- initializer with account number, first name, last name, optional preferred time zone, starting balance (defaults to 0)\n",
    "- a first name property (read/write)\n",
    "- a last name property (read/write)\n",
    "- a full name property (computed, read-only)\n",
    "- a balance property (read-only)\n",
    "- an interest rate property (class level property)\n",
    "- deposit, withdraw, pay_interest methods\n",
    "- parse confirmation code\n",
    "\n",
    "Class will have additional state and methods, but those will be used for implementation."
   ]
  },
  {
   "cell_type": "markdown",
   "metadata": {},
   "source": [
    "You should also remember to test your code! In the solutions I will introduce you to Python's `unittest` package. Even if you skip this project, at least review that video and/or notebook if you are unfamiliar with `unittest`."
   ]
  },
  {
   "cell_type": "code",
   "execution_count": 1,
   "metadata": {},
   "outputs": [],
   "source": [
    "from datetime import datetime\n",
    "from pytz import timezone\n",
    "from collections import namedtuple\n",
    "import pytz\n",
    "Confirmation = namedtuple('Confirmation', 'account_number, transaction_code, transaction_id, time_utc, time')"
   ]
  },
  {
   "cell_type": "code",
   "execution_count": null,
   "metadata": {},
   "outputs": [],
   "source": []
  },
  {
   "cell_type": "code",
   "execution_count": 170,
   "metadata": {},
   "outputs": [],
   "source": [
    "class Account:\n",
    "    '''\n",
    "    To create the account, pass in the following inputs:\n",
    "    FirstName, LastName, Preferred Time Zone, starting balance\n",
    "    '''\n",
    "    default_time_zone = 'utc'\n",
    "    interest_rate = 0.5 #percentage (%)\n",
    "    transaction_number = 1\n",
    "    _transaction_code = {\n",
    "        'Interest':'I',\n",
    "        'Deposit':'D',\n",
    "        'Withdraw':'W',\n",
    "        'Decline':'I'}\n",
    "  \n",
    "    def __init__ (self, first_name, last_name, account_number, time_zone='UTC', starting_balance=0 ):\n",
    "        self._first_name = first_name\n",
    "        self._last_name = last_name\n",
    "        self._time_zone = time_zone\n",
    "        self._balance = starting_balance\n",
    "        self._account_number = account_number\n",
    "        \n",
    "        #Check_inputs\n",
    "        if self.balance < 0.0:\n",
    "            raise ValueError ('Balance cannot be less than zero')\n",
    "        if time_zone not in pytz.all_timezones:\n",
    "            raise ValueError ('TimeZone not found')\n",
    "        self.validate_name (self._first_name, 'first_name')\n",
    "        self.validate_name (self._last_name, 'last_name')\n",
    "                       \n",
    "    def deposit_interest (self):\n",
    "        if self._balance > 0:\n",
    "            self._balance = self._balance * ( 1 + Account.interest_rate/100)\n",
    "            confirmation = 'I' + self.generate_confirmation ()\n",
    "            Account.transaction_number = Account.transaction_number + 1\n",
    "            return confirmation\n",
    "        \n",
    "        \n",
    "    def deposit (self, deposit_amount):\n",
    "        self._balance = self._balance + deposit_amount\n",
    "        confirmation = Account._transaction_code['Deposit'] + self.generate_confirmation ()\n",
    "        Account.transaction_number = Account.transaction_number + 1\n",
    "        return confirmation\n",
    "        \n",
    "    def withdraw (self, withdraw_amount):\n",
    "        if withdraw_amount < 0:\n",
    "            raise ValueError ('Withdraw amount cannot be negative!!')\n",
    "            return\n",
    "        if self._balance - withdraw_amount < 0:\n",
    "            Account.transaction_number = Account.transaction_number + 1\n",
    "            confirmation = Account._transaction_code['Decline'] + self.generate_confirmation ()\n",
    "            return confirmation\n",
    "        else:\n",
    "            self._balance = self._balance - withdraw_amount\n",
    "            Account.transaction_number = Account.transaction_number + 1\n",
    "            confirmation = Account._transaction_code['Withdraw'] + self.generate_confirmation ()\n",
    "            return confirmation\n",
    "    \n",
    "    def convert_timezone (self, date, target_label):\n",
    "        target_timezone = timezone (target_label)\n",
    "        new_date  = date.astimezone(target_timezone)\n",
    "        return new_date\n",
    "\n",
    "    def generate_confirmation (self):\n",
    "        confirmation_date = timezone(Account.default_time_zone).localize \\\n",
    "                    (datetime.today()).strftime('%Y%m%d%H%M%S')\n",
    "        confirmation = str (self._account_number) + '-' + confirmation_date + '-' + \\\n",
    "        str(Account.transaction_number)  \n",
    "        return confirmation\n",
    "    \n",
    "    def transaction_analysis (self, confirmation, target_timezone='UTC'):\n",
    "        items = confirmation.split('-')\n",
    "        transaction_id = items [0][0]\n",
    "        account_number = items[0][0:]\n",
    "        transaction_code = items[2]\n",
    "        year = int ( items[1][0:4] )\n",
    "        month = int ( items[1][4:6] )\n",
    "        day = int (items[1][6:8])\n",
    "        hour = int (items[1][8:10])\n",
    "        minute = int (items[1][10:12])\n",
    "        second = int (items[1][12:14])\n",
    "        \n",
    "        date_utc = datetime (year, month, day, hour, minute, second)\n",
    "        if target_timezone not in pytz.all_timezones:\n",
    "            raise ValueError ('TimeZone not found')\n",
    "        date_preferred = self.convert_timezone (date_utc, target_timezone)\n",
    "        conf = Confirmation (account_number, transaction_code, \n",
    "                             transaction_id, date_utc, date_preferred )\n",
    "        return conf\n",
    "    \n",
    "    def validate_name(self, value, field_title):\n",
    "        if value is None or len(str(value).strip()) == 0:\n",
    "            raise ValueError(f'{field_title} cannot be empty.')\n",
    "        \n",
    "    @property\n",
    "    def account_number (self):\n",
    "        return self._account_number\n",
    "    \n",
    "    @property\n",
    "    def first_name (self):\n",
    "        return self._first_name\n",
    "    \n",
    "    @property\n",
    "    def last_name (self):\n",
    "        return self._last_name\n",
    "    \n",
    "    @property\n",
    "    def full_name (self):\n",
    "        return self._first_name + ' ' + self._last_name\n",
    "    \n",
    "    @property\n",
    "    def balance (self):\n",
    "        return self._balance\n",
    "    \n",
    "    @property\n",
    "    def time_zone (self):\n",
    "        return self._time_zone\n",
    "    \n",
    "    def validate_and_set_name(self, property_name, value, field_title):\n",
    "        if value is None or len(str(value).strip()) == 0:\n",
    "            raise ValueError(f'{field_title} cannot be empty.')\n",
    "        setattr(self, property_name, value)"
   ]
  },
  {
   "cell_type": "code",
   "execution_count": 171,
   "metadata": {},
   "outputs": [],
   "source": [
    "import unittest"
   ]
  },
  {
   "cell_type": "code",
   "execution_count": 172,
   "metadata": {},
   "outputs": [],
   "source": [
    "def run_tests(test_class):\n",
    "    suite = unittest.TestLoader().loadTestsFromTestCase(test_class)\n",
    "    runner =unittest.TextTestRunner(verbosity=2)\n",
    "    runner.run(suite)"
   ]
  },
  {
   "cell_type": "code",
   "execution_count": 173,
   "metadata": {},
   "outputs": [],
   "source": [
    "class TestAccount(unittest.TestCase):\n",
    "    \n",
    "    def setUp(self):\n",
    "        print ('running setup...')\n",
    "        self.x = 100\n",
    "        \n",
    "    def test_ok(self):\n",
    "        self.x = 200\n",
    "        self.assertEqual(200,self.x)\n",
    "    \n",
    "    def test_2(self):\n",
    "        self.assertEqual(200,self.x)\n",
    "    \n",
    "    def tearDown(self):\n",
    "        print ('running teardown')\n",
    "     "
   ]
  },
  {
   "cell_type": "code",
   "execution_count": 174,
   "metadata": {},
   "outputs": [
    {
     "name": "stderr",
     "output_type": "stream",
     "text": [
      "test_2 (__main__.TestAccount) ... FAIL\n",
      "test_ok (__main__.TestAccount) ... "
     ]
    },
    {
     "name": "stdout",
     "output_type": "stream",
     "text": [
      "running setup...\n",
      "running teardown\n",
      "running setup...\n",
      "running teardown\n"
     ]
    },
    {
     "name": "stderr",
     "output_type": "stream",
     "text": [
      "ok\n",
      "\n",
      "======================================================================\n",
      "FAIL: test_2 (__main__.TestAccount)\n",
      "----------------------------------------------------------------------\n",
      "Traceback (most recent call last):\n",
      "  File \"<ipython-input-173-2af237090ab8>\", line 12, in test_2\n",
      "    self.assertEqual(200,self.x)\n",
      "AssertionError: 200 != 100\n",
      "\n",
      "----------------------------------------------------------------------\n",
      "Ran 2 tests in 0.003s\n",
      "\n",
      "FAILED (failures=1)\n"
     ]
    }
   ],
   "source": [
    "run_tests(TestAccount)"
   ]
  },
  {
   "cell_type": "code",
   "execution_count": 181,
   "metadata": {},
   "outputs": [],
   "source": [
    "class TestAccount (unittest.TestCase):\n",
    "    \n",
    "    def setUp(self):\n",
    "        self.account_number = '123345'\n",
    "        self.first_name = 'First'\n",
    "        self.last_name = 'Last'\n",
    "        self.tz = 'Iran'\n",
    "        self.balance = 1000.0\n",
    "    \n",
    "    def create_account (self):\n",
    "        return Account (self.first_name, self.last_name, self.account_number, \n",
    "                     self.tz, self.balance)\n",
    "    \n",
    "    def test_create_account (self):\n",
    "        a = self.create_account()\n",
    "        self.assertEqual (self.account_number, a.account_number)\n",
    "        self.assertEqual (self.first_name, a.first_name)\n",
    "        self.assertEqual (self.last_name, a.last_name)\n",
    "        self.assertEqual (self.first_name + ' ' + self.last_name, a.full_name)\n",
    "        self.assertEqual (self.tz, a.time_zone)\n",
    "        self.assertEqual (self.balance, a.balance)\n",
    "        \n",
    "    def test_create_account_blank_first_name(self):\n",
    "        self.first_name = ''\n",
    "        with self.assertRaises (ValueError):\n",
    "            a = self.create_account()\n",
    "            \n",
    "    def test_create_negative_initial_balance(self):\n",
    "        self.balance = -100\n",
    "        with self.assertRaises (ValueError):\n",
    "            a = self.create_account()\n",
    "    \n",
    "    def test_account_withdraw_ok (self):\n",
    "        a = self.create_account()\n",
    "        conf_code = a.withdraw(200)\n",
    "        self.assertEqual(conf_code[0],'W')\n",
    "        \n",
    "    def test_account_withdraw_toomcuh (self):\n",
    "        a = self.create_account()\n",
    "        conf_code = a.withdraw(1200)\n",
    "        self.assertEqual(conf_code[0],'I')\n"
   ]
  },
  {
   "cell_type": "code",
   "execution_count": 182,
   "metadata": {},
   "outputs": [
    {
     "name": "stderr",
     "output_type": "stream",
     "text": [
      "test_account_withdraw_ok (__main__.TestAccount) ... ok\n",
      "test_account_withdraw_toomcuh (__main__.TestAccount) ... ok\n",
      "test_create_account (__main__.TestAccount) ... ok\n",
      "test_create_account_blank_first_name (__main__.TestAccount) ... ok\n",
      "test_create_negative_initial_balance (__main__.TestAccount) ... ok\n",
      "\n",
      "----------------------------------------------------------------------\n",
      "Ran 5 tests in 0.003s\n",
      "\n",
      "OK\n"
     ]
    }
   ],
   "source": [
    "run_tests (TestAccount)"
   ]
  },
  {
   "cell_type": "code",
   "execution_count": null,
   "metadata": {},
   "outputs": [],
   "source": []
  },
  {
   "cell_type": "code",
   "execution_count": null,
   "metadata": {},
   "outputs": [],
   "source": []
  },
  {
   "cell_type": "code",
   "execution_count": null,
   "metadata": {},
   "outputs": [],
   "source": []
  },
  {
   "cell_type": "code",
   "execution_count": null,
   "metadata": {},
   "outputs": [],
   "source": []
  }
 ],
 "metadata": {
  "kernelspec": {
   "display_name": "Python 3",
   "language": "python",
   "name": "python3"
  },
  "language_info": {
   "codemirror_mode": {
    "name": "ipython",
    "version": 3
   },
   "file_extension": ".py",
   "mimetype": "text/x-python",
   "name": "python",
   "nbconvert_exporter": "python",
   "pygments_lexer": "ipython3",
   "version": "3.8.3"
  }
 },
 "nbformat": 4,
 "nbformat_minor": 2
}
